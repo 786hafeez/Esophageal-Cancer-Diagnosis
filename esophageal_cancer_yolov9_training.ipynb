# Authenticate and Download the Dataset:
%cd {HOME}/yolov9
!pip install roboflow

from roboflow import Roboflow
rf = Roboflow(api_key="goIqTqwNIZs99wa2BIvU")
project = rf.workspace("personal-egpas").project("esophagus-e1xjw")
version = project.version(1)
dataset = version.download("yolov9")
python
Copy
Edit
# Train Custom Model
%cd {HOME}/yolov9

!python train.py \
--batch 16 --epochs 25 --img 640 --device 0 --min-items 0 --close-mosaic 15 \
--data {dataset.location}/data.yaml \
--weights {HOME}/weights/gelan-c.pt \
--cfg models/detect/gelan-c.yaml \
--hyp hyp.scratch-high.yaml
python
Copy
Edit
# Examine Training Results
!ls {HOME}/yolov9/runs/train/exp/
from IPython.display import Image

Image(filename=f"{HOME}/yolov9/runs/train/exp/confusion_matrix.png", width=600)
Image(filename=f"{HOME}/yolov9/runs/train/exp/val_batch0_pred.jpg", width=600)
Image(filename=f"{HOME}/yolov9/runs/train/exp/val_batch0_labels.jpg", width=600)
Image(filename=f"{HOME}/yolov9/runs/train/exp/train_batch2.jpg", width=600)
Image(filename=f"{HOME}/yolov9/runs/train/exp/train_batch1.jpg", width=600)
Image(filename=f"{HOME}/yolov9/runs/train/exp/results.csv", width=600)
Image(filename=f"{HOME}/yolov9/runs/train/exp/train_batch0.jpg", width=600)
Image(filename=f"{HOME}/yolov9/runs/train/exp/results.png", width=600)
Image(filename=f"{HOME}/yolov9/runs/train/exp/labels.jpg", width=600)
Image(filename=f"{HOME}/yolov9/runs/train/exp/labels_correlogram.jpg", width=600)
Image(filename=f"{HOME}/yolov9/runs/train/exp/R_curve.png", width=600)
Image(filename=f"{HOME}/yolov9/runs/train/exp/PR_curve.png", width=600)
Image(filename=f"{HOME}/yolov9/runs/train/exp/P_curve.png", width=600)
Image(filename=f"{HOME}/yolov9/runs/train/exp/F1_curve.png", width=600)
python
Copy
Edit
# Validate Custom Model
%cd {HOME}/yolov9

!python val.py \
--img 640 --batch 32 --conf 0.001 --iou 0.7 --device 0 \
--data {dataset.location}/data.yaml \
--weights {HOME}/yolov9/runs/train/exp/weights/best.pt
python
Copy
Edit
# Inference with Custom Model
!python detect.py \
--img 1280 --conf 0.1 --device 0 \
--weights {HOME}/yolov9/runs/train/exp/weights/best.pt \
--source {dataset.location}/test/images

import glob
from IPython.display import Image, display

for image_path in glob.glob(f'{HOME}/yolov9/runs/detect/exp3/*.jpg')[:]:
    display(Image(filename=image_path, width=400))
